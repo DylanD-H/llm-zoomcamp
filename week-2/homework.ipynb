{
 "cells": [
  {
   "cell_type": "markdown",
   "id": "f1aaf30e-d391-459c-9cfe-4d45949c0ead",
   "metadata": {},
   "source": [
    "## Imports"
   ]
  },
  {
   "cell_type": "code",
   "execution_count": 12,
   "id": "6ad44f6a-302d-4493-8fc2-9c33587db2c3",
   "metadata": {},
   "outputs": [],
   "source": [
    "from fastembed import TextEmbedding\n",
    "from qdrant_client import QdrantClient, models\n",
    "import numpy as np"
   ]
  },
  {
   "cell_type": "markdown",
   "id": "53f2a9f0-3a5a-4119-911b-647abd023f6b",
   "metadata": {},
   "source": [
    "## Q1. Embedding the query"
   ]
  },
  {
   "cell_type": "code",
   "execution_count": 2,
   "id": "d2c609f3-be15-42e2-b429-a27b391e2aa4",
   "metadata": {},
   "outputs": [
    {
     "name": "stdout",
     "output_type": "stream",
     "text": [
      "Minimal value in the array: -0.12\n"
     ]
    }
   ],
   "source": [
    "query = 'I just discovered the course. Can I join now?'\n",
    "model=TextEmbedding(model_name='jinaai/jina-embeddings-v2-small-en')\n",
    "\n",
    "q_embedded = list(model.embed(query))[0]\n",
    "print(f\"Minimal value in the array: {min(q_embedded):.2f}\")"
   ]
  },
  {
   "cell_type": "markdown",
   "id": "dfc195da-2ab7-4b7a-ab23-e68e36a4ae08",
   "metadata": {},
   "source": [
    "## Q2. Cosine similarity with another vector"
   ]
  },
  {
   "cell_type": "code",
   "execution_count": 3,
   "id": "de084b6b-64c4-4a4a-a90e-fb143e0a461c",
   "metadata": {},
   "outputs": [
    {
     "name": "stdout",
     "output_type": "stream",
     "text": [
      "Cosine similarity between the query and document: 0.9\n"
     ]
    }
   ],
   "source": [
    "doc = 'Can I still join the course after the start date?'\n",
    "d_embedded = list(model.embed(doc))[0]\n",
    "\n",
    "cosine_similarity = q_embedded.dot(d_embedded)\n",
    "print(f\"Cosine similarity between the query and document: {cosine_similarity:.1f}\")"
   ]
  },
  {
   "cell_type": "markdown",
   "id": "b92f5374-449e-489c-a805-0c0874fed67d",
   "metadata": {},
   "source": [
    "## Q3. Ranking by cosine"
   ]
  },
  {
   "cell_type": "code",
   "execution_count": 4,
   "id": "06a1bba4-2043-4a0d-8af7-83566357a58f",
   "metadata": {},
   "outputs": [],
   "source": [
    "documents = [{'text': \"Yes, even if you don't register, you're still eligible to submit the homeworks.\\nBe aware, however, that there will be deadlines for turning in the final projects. So don't leave everything for the last minute.\",\n",
    "  'section': 'General course-related questions',\n",
    "  'question': 'Course - Can I still join the course after the start date?',\n",
    "  'course': 'data-engineering-zoomcamp'},\n",
    " {'text': 'Yes, we will keep all the materials after the course finishes, so you can follow the course at your own pace after it finishes.\\nYou can also continue looking at the homeworks and continue preparing for the next cohort. I guess you can also start working on your final capstone project.',\n",
    "  'section': 'General course-related questions',\n",
    "  'question': 'Course - Can I follow the course after it finishes?',\n",
    "  'course': 'data-engineering-zoomcamp'},\n",
    " {'text': \"The purpose of this document is to capture frequently asked technical questions\\nThe exact day and hour of the course will be 15th Jan 2024 at 17h00. The course will start with the first  “Office Hours'' live.1\\nSubscribe to course public Google Calendar (it works from Desktop only).\\nRegister before the course starts using this link.\\nJoin the course Telegram channel with announcements.\\nDon’t forget to register in DataTalks.Club's Slack and join the channel.\",\n",
    "  'section': 'General course-related questions',\n",
    "  'question': 'Course - When will the course start?',\n",
    "  'course': 'data-engineering-zoomcamp'},\n",
    " {'text': 'You can start by installing and setting up all the dependencies and requirements:\\nGoogle cloud account\\nGoogle Cloud SDK\\nPython 3 (installed with Anaconda)\\nTerraform\\nGit\\nLook over the prerequisites and syllabus to see if you are comfortable with these subjects.',\n",
    "  'section': 'General course-related questions',\n",
    "  'question': 'Course - What can I do before the course starts?',\n",
    "  'course': 'data-engineering-zoomcamp'},\n",
    " {'text': 'Star the repo! Share it with friends if you find it useful ❣️\\nCreate a PR if you see you can improve the text or the structure of the repository.',\n",
    "  'section': 'General course-related questions',\n",
    "  'question': 'How can we contribute to the course?',\n",
    "  'course': 'data-engineering-zoomcamp'}]\n"
   ]
  },
  {
   "cell_type": "code",
   "execution_count": 5,
   "id": "663f7b57-3736-40ca-a24a-983ac1afd58a",
   "metadata": {},
   "outputs": [
    {
     "name": "stdout",
     "output_type": "stream",
     "text": [
      "Most similar document: 1\n",
      " Yes, we will keep all the materials after the course finishes, so you can follow the course at your own pace after it finishes.\n",
      "You can also continue looking at the homeworks and continue preparing for the next cohort. I guess you can also start working on your final capstone project.\n"
     ]
    }
   ],
   "source": [
    "V = []\n",
    "\n",
    "for document in documents:\n",
    "    text = list(model.embed(document['text']))\n",
    "    V.append(text[0].dot(q_embedded))\n",
    "\n",
    "maxVal = max(V)\n",
    "maxIndex = V.index(maxVal)\n",
    "print(f\"Most similar document: {maxIndex}\\n {documents[maxIndex]['text']}\")"
   ]
  },
  {
   "cell_type": "markdown",
   "id": "7d929635-8be0-4899-bbd8-6751e8137797",
   "metadata": {},
   "source": [
    "# Q4. Ranking by cosine, version two"
   ]
  },
  {
   "cell_type": "code",
   "execution_count": 8,
   "id": "6e4fcc4e-1b1d-44cf-89a6-9a89dde92d41",
   "metadata": {},
   "outputs": [
    {
     "name": "stdout",
     "output_type": "stream",
     "text": [
      "Most similar document: 0\n",
      " Course - Can I still join the course after the start date?\n",
      " Yes, even if you don't register, you're still eligible to submit the homeworks.\n",
      "Be aware, however, that there will be deadlines for turning in the final projects. So don't leave everything for the last minute.\n"
     ]
    }
   ],
   "source": [
    "V = []\n",
    "\n",
    "for document in documents:\n",
    "    full_text = document['question'] + ' ' + document['text']\n",
    "    text = list(model.embed(full_text))\n",
    "    V.append(text[0].dot(q_embedded))\n",
    "\n",
    "maxVal = max(V)\n",
    "maxIndex = V.index(maxVal)\n",
    "print(f\"Most similar document: {maxIndex}\\n {documents[maxIndex]['question']}\\n {documents[maxIndex]['text']}\")"
   ]
  },
  {
   "cell_type": "markdown",
   "id": "44583493-14be-4442-bdad-06da720d1dde",
   "metadata": {},
   "source": [
    "## Q5. Selecting the embedding model"
   ]
  },
  {
   "cell_type": "code",
   "execution_count": 10,
   "id": "d8a30e67-8c52-4209-90ca-14fcc7f3b345",
   "metadata": {},
   "outputs": [
    {
     "name": "stdout",
     "output_type": "stream",
     "text": [
      "Minimum Dimensionality: 384\n"
     ]
    }
   ],
   "source": [
    "min_dim = 1000\n",
    "for model in TextEmbedding.list_supported_models():\n",
    "    min_dim = min(min_dim, model[\"dim\"])\n",
    "\n",
    "print(f\"Minimum Dimensionality: {min_dim}\")"
   ]
  },
  {
   "cell_type": "markdown",
   "id": "d60913be-df00-40e4-a537-3bf0919920f6",
   "metadata": {},
   "source": [
    "## Q6. Indexing with qdrant"
   ]
  },
  {
   "cell_type": "code",
   "execution_count": 18,
   "id": "f3dcc4d9-b9c3-4a86-b638-918e7aa97231",
   "metadata": {},
   "outputs": [],
   "source": [
    "import requests \n",
    "\n",
    "docs_url = 'https://github.com/alexeygrigorev/llm-rag-workshop/raw/main/notebooks/documents.json'\n",
    "docs_response = requests.get(docs_url)\n",
    "documents_raw = docs_response.json()\n",
    "\n",
    "\n",
    "documents = []\n",
    "\n",
    "for course in documents_raw:\n",
    "    course_name = course['course']\n",
    "    if course_name != 'machine-learning-zoomcamp':\n",
    "        continue\n",
    "\n",
    "    for doc in course['documents']:\n",
    "        doc['course'] = course_name\n",
    "        documents.append(doc)"
   ]
  },
  {
   "cell_type": "code",
   "execution_count": null,
   "id": "bc62845c-8f3f-4a40-a5f2-1d3bc95c27e2",
   "metadata": {},
   "outputs": [],
   "source": [
    "client = QdrantClient(\"http://localhost:6333\")\n",
    "\n",
    "collection_name = \"llm-homework\"\n",
    "\n",
    "client.create_collection(\n",
    "    collection_name=collection_name,\n",
    "    vectors_config=models.VectorParams(\n",
    "        size=384,  # Dimensionality of the vectors\n",
    "        distance=models.Distance.COSINE  # Distance metric for similarity search\n",
    "    )\n",
    ")"
   ]
  },
  {
   "cell_type": "code",
   "execution_count": 20,
   "id": "61345c7a-392b-4f78-aea7-cdf5b83a605f",
   "metadata": {},
   "outputs": [],
   "source": [
    "model='BAAI/bge-small-en'\n",
    "points = []\n",
    "id = 0\n",
    "\n",
    "for doc in documents:\n",
    "    full_text = doc['question'] + ' ' + doc['text']\n",
    "    \n",
    "    point = models.PointStruct(\n",
    "        id=id,\n",
    "        vector=models.Document(text=full_text, model=model),\n",
    "        payload={\n",
    "            \"text\": doc['text'],\n",
    "            \"section\": doc['section'],\n",
    "            \"question\": doc['question'],\n",
    "            \"course\": doc['course']\n",
    "        }\n",
    "    )\n",
    "    points.append(point)\n",
    "\n",
    "    id += 1"
   ]
  },
  {
   "cell_type": "code",
   "execution_count": 21,
   "id": "2d4c9f2d-4e64-4005-955b-17d865f138b3",
   "metadata": {},
   "outputs": [
    {
     "data": {
      "text/plain": [
       "UpdateResult(operation_id=0, status=<UpdateStatus.COMPLETED: 'completed'>)"
      ]
     },
     "execution_count": 21,
     "metadata": {},
     "output_type": "execute_result"
    }
   ],
   "source": [
    "client.upsert(\n",
    "    collection_name=collection_name,\n",
    "    points=points\n",
    ")"
   ]
  },
  {
   "cell_type": "code",
   "execution_count": 24,
   "id": "52035a25-f9d7-4834-86aa-71eb7ed30573",
   "metadata": {},
   "outputs": [],
   "source": [
    "def search(query, limit=10):\n",
    "\n",
    "    results = client.query_points(\n",
    "        collection_name=collection_name,\n",
    "        query=models.Document(\n",
    "            text=query,\n",
    "            model=model\n",
    "        ),\n",
    "        limit=limit,\n",
    "        with_payload=True\n",
    "    )\n",
    "\n",
    "    return results"
   ]
  },
  {
   "cell_type": "code",
   "execution_count": 31,
   "id": "7064965e-5b9f-4fb0-afe8-aa9e4b0d982d",
   "metadata": {},
   "outputs": [
    {
     "name": "stdout",
     "output_type": "stream",
     "text": [
      "points=[ScoredPoint(id=14, version=0, score=0.8703172, payload={'text': 'Yes, you can. You won’t be able to submit some of the homeworks, but you can still take part in the course.\\nIn order to get a certificate, you need to submit 2 out of 3 course projects and review 3 peers’ Projects by the deadline. It means that if you join the course at the end of November and manage to work on two projects, you will still be eligible for a certificate.', 'section': 'General course-related questions', 'question': 'The course has already started. Can I still join it?', 'course': 'machine-learning-zoomcamp'}, vector=None, shard_key=None, order_value=None), ScoredPoint(id=6, version=0, score=0.86918855, payload={'text': 'Approximately 4 months, but may take more if you want to do some extra activities (an extra project, an article, etc)', 'section': 'General course-related questions', 'question': 'How long is the course?', 'course': 'machine-learning-zoomcamp'}, vector=None, shard_key=None, order_value=None), ScoredPoint(id=13, version=0, score=0.86833113, payload={'text': \"Here’s how you join a in Slack: https://slack.com/help/articles/205239967-Join-a-channel\\nClick “All channels” at the top of your left sidebar. If you don't see this option, click “More” to find it.\\nBrowse the list of public channels in your workspace, or use the search bar to search by channel name or description.\\nSelect a channel from the list to view it.\\nClick Join Channel.\\nDo we need to provide the GitHub link to only our code corresponding to the homework questions?\\nYes. You are required to provide the URL to your repo in order to receive a grade\", 'section': 'General course-related questions', 'question': 'I’m new to Slack and can’t find the course channel. Where is it?', 'course': 'machine-learning-zoomcamp'}, vector=None, shard_key=None, order_value=None), ScoredPoint(id=293, version=0, score=0.8576106, payload={'text': 'TODO', 'section': '10. Kubernetes and TensorFlow Serving', 'question': 'How to get started with Week 10?', 'course': 'machine-learning-zoomcamp'}, vector=None, shard_key=None, order_value=None), ScoredPoint(id=17, version=0, score=0.85715395, payload={'text': 'Welcome to the course! Go to the course page (http://mlzoomcamp.com/), scroll down and start going through the course materials. Then read everything in the cohort folder for your cohort’s year.\\nClick on the links and start watching the videos. Also watch office hours from previous cohorts. Go to DTC youtube channel and click on Playlists and search for {course yyyy}. ML Zoomcamp was first launched in 2021.\\nOr you can just use this link: http://mlzoomcamp.com/#syllabus', 'section': 'General course-related questions', 'question': 'I just joined. What should I do next? How can I access course materials?', 'course': 'machine-learning-zoomcamp'}, vector=None, shard_key=None, order_value=None), ScoredPoint(id=231, version=0, score=0.85681665, payload={'text': 'TODO', 'section': '8. Neural Networks and Deep Learning', 'question': 'How to get started with Week 8?', 'course': 'machine-learning-zoomcamp'}, vector=None, shard_key=None, order_value=None), ScoredPoint(id=262, version=0, score=0.85447824, payload={'text': 'TODO', 'section': '9. Serverless Deep Learning', 'question': 'How to get started with Week 9?', 'course': 'machine-learning-zoomcamp'}, vector=None, shard_key=None, order_value=None), ScoredPoint(id=9, version=0, score=0.84559387, payload={'text': \"Yes, it's possible. See the previous answer.\", 'section': 'General course-related questions', 'question': 'Will I get a certificate if I missed the midterm project?', 'course': 'machine-learning-zoomcamp'}, vector=None, shard_key=None, order_value=None), ScoredPoint(id=5, version=0, score=0.8414748, payload={'text': \"The process is automated now, so you should receive the email eventually. If you haven’t, check your promotions tab in Gmail as well as spam.\\nIf you unsubscribed from our newsletter, you won't get course related updates too.\\nBut don't worry, it’s not a problem. To make sure you don’t miss anything, join the #course-ml-zoomcamp channel in Slack and our telegram channel with announcements. This is enough to follow the course.\", 'section': 'General course-related questions', 'question': \"I filled the form, but haven't received a confirmation email. Is it normal?\", 'course': 'machine-learning-zoomcamp'}, vector=None, shard_key=None, order_value=None), ScoredPoint(id=18, version=0, score=0.83479106, payload={'text': 'For the 2023 cohort, you can see the deadlines here (it’s taken from the 2023 cohort page)', 'section': 'General course-related questions', 'question': 'What are the deadlines in this course?', 'course': 'machine-learning-zoomcamp'}, vector=None, shard_key=None, order_value=None)]\n"
     ]
    }
   ],
   "source": [
    "results = search(\"I just discovered the course. Can I join now?\")\n",
    "print(results)"
   ]
  }
 ],
 "metadata": {
  "kernelspec": {
   "display_name": "Python 3 (ipykernel)",
   "language": "python",
   "name": "python3"
  },
  "language_info": {
   "codemirror_mode": {
    "name": "ipython",
    "version": 3
   },
   "file_extension": ".py",
   "mimetype": "text/x-python",
   "name": "python",
   "nbconvert_exporter": "python",
   "pygments_lexer": "ipython3",
   "version": "3.12.7"
  }
 },
 "nbformat": 4,
 "nbformat_minor": 5
}
